{
 "cells": [
  {
   "cell_type": "markdown",
   "metadata": {},
   "source": [
    "**Задание 1**. Дан список с визитами по городам и странам. \n",
    "Напишите код, который возвращает отфильтрованный список geo_logs, содержащий только визиты из России."
   ]
  },
  {
   "cell_type": "code",
   "execution_count": 1,
   "metadata": {},
   "outputs": [],
   "source": [
    "geo_logs = [\n",
    "    {'visit1': ['Москва', 'Россия']},\n",
    "    {'visit2': ['Дели', 'Индия']},\n",
    "    {'visit3': ['Владимир', 'Россия']},\n",
    "    {'visit4': ['Лиссабон', 'Португалия']},\n",
    "    {'visit5': ['Париж', 'Франция']},\n",
    "    {'visit6': ['Лиссабон', 'Португалия']},\n",
    "    {'visit7': ['Тула', 'Россия']},\n",
    "    {'visit8': ['Тула', 'Россия']},\n",
    "    {'visit9': ['Курск', 'Россия']},\n",
    "    {'visit10': ['Архангельск', 'Россия']}\n",
    "]"
   ]
  },
  {
   "cell_type": "code",
   "execution_count": 2,
   "metadata": {},
   "outputs": [
    {
     "data": {
      "text/plain": [
       "[{'visit1': ['Москва', 'Россия']},\n",
       " {'visit3': ['Владимир', 'Россия']},\n",
       " {'visit7': ['Тула', 'Россия']},\n",
       " {'visit8': ['Тула', 'Россия']},\n",
       " {'visit9': ['Курск', 'Россия']},\n",
       " {'visit10': ['Архангельск', 'Россия']}]"
      ]
     },
     "execution_count": 2,
     "metadata": {},
     "output_type": "execute_result"
    }
   ],
   "source": [
    "# переменная для накопления результата\n",
    "result = []\n",
    "# переменная для фильтрации\n",
    "filter_ = 'Россия'\n",
    "\n",
    "# запускаем цикл, в котором идет перебор каждой строчки в списке\n",
    "# и назначается во временную переменную viz\n",
    "for viz in geo_logs:\n",
    "    # условие, из списка по указанным индексам \n",
    "    # найти значение равное переменной с параметрами(filter_)\n",
    "    if list(viz.values())[0][1] == filter_:\n",
    "        # затем, каждый полученный результат \n",
    "        # равный условию, записываем в переменную result\n",
    "        result.append(viz)\n",
    "        \n",
    "# выводим отфильтрованный список     \n",
    "result"
   ]
  },
  {
   "cell_type": "markdown",
   "metadata": {},
   "source": [
    "**Задание 2**. Выведите на экран все уникальные гео-ID из значений словаря ids. Т. е. список вида [213, 15, 54, 119, 98, 35]"
   ]
  },
  {
   "cell_type": "code",
   "execution_count": 3,
   "metadata": {},
   "outputs": [],
   "source": [
    "ids = {'user1': [213, 213, 213, 15, 213], \n",
    "       'user2': [54, 54, 119, 119, 119], \n",
    "       'user3': [213, 98, 98, 35]}"
   ]
  },
  {
   "cell_type": "code",
   "execution_count": 4,
   "metadata": {},
   "outputs": [
    {
     "name": "stdout",
     "output_type": "stream",
     "text": [
      "<class 'dict'>\n"
     ]
    }
   ],
   "source": [
    "#print(type(ids))"
   ]
  },
  {
   "cell_type": "code",
   "execution_count": 5,
   "metadata": {},
   "outputs": [
    {
     "name": "stdout",
     "output_type": "stream",
     "text": [
      "{98, 35, 15, 213, 54, 119}\n"
     ]
    }
   ],
   "source": [
    "# перменная для накопления результата с цикла\n",
    "unique = list()\n",
    "\n",
    "# запускаем цикл, в котором идет перебор каждой строчки(индекса)словаря\n",
    "# создается временная переменная value в которую попадают значения из переменной ids\n",
    "# (значения словаря, например [213, 213, 213, 15, 213])\n",
    "for value in ids.values():\n",
    "    # по условию, если value  - список\n",
    "    if type(value) == list:\n",
    "        #print(value)\n",
    "        # добавляем все значения из него\n",
    "        unique += value\n",
    "        #print(type(value))\n",
    "        #print(value)\n",
    "        # если значения - добавляем значения value в переменную unique\n",
    "    else:\n",
    "        unique.append(value)\n",
    "        \n",
    "# выводим множества в сет , который выводит только уникальные значения\n",
    "#print(type(unique))\n",
    "print(set(unique))"
   ]
  },
  {
   "cell_type": "markdown",
   "metadata": {},
   "source": [
    "**Задание 3**. Дан список поисковых запросов. Получить распределение количества слов в них. \n",
    "Т. е. поисковых запросов из одного - слова 5%, из двух - 7%, из трех - 3% и т.д."
   ]
  },
  {
   "cell_type": "code",
   "execution_count": 2,
   "metadata": {},
   "outputs": [],
   "source": [
    "queries = [\n",
    "    'смотреть сериалы онлайн',\n",
    "    'новости спорта',\n",
    "    'афиша кино',\n",
    "    'курс доллара',\n",
    "    'сериалы этим летом',\n",
    "    'курс по питону',\n",
    "    'сериалы про спорт',\n",
    "]"
   ]
  },
  {
   "cell_type": "code",
   "execution_count": 3,
   "metadata": {},
   "outputs": [
    {
     "data": {
      "text/plain": [
       "'новости спорта'"
      ]
     },
     "execution_count": 3,
     "metadata": {},
     "output_type": "execute_result"
    }
   ],
   "source": [
    "queries[1]"
   ]
  },
  {
   "cell_type": "code",
   "execution_count": 22,
   "metadata": {},
   "outputs": [
    {
     "name": "stdout",
     "output_type": "stream",
     "text": [
      "[(3, 4), (2, 3), (2, 3), (2, 3), (3, 4), (3, 4), (3, 4)]\n",
      "set()\n"
     ]
    }
   ],
   "source": [
    "# переменная для списка, в котором будет собран подсчет слов в строке(индексе)\n",
    "result_key = []\n",
    "# переменная для списка, в которм будет собран пересчет запросов состоящих из одинакового количества слов\n",
    "result_value = []\n",
    "# переменная для словаря куда положим финальный результат, ключ - количество слов , значения - количество запросов\n",
    "result_dikt = {}\n",
    "\n",
    "# в цикле считаем количество слов в каждой строке(запрос/индекс)\n",
    "for word in queries:\n",
    "    #print(word)\n",
    "    # разделяем каждую строку/индекс на отдельные индексы в строке по пробелу на список\n",
    "    word_format = word.split(' ')\n",
    "    #print(word_format)\n",
    "    # производим пересчет индексов в строке и добавляем в подготовленный список\n",
    "    result_key.append(len(word_format))\n",
    "#print('result_key')\n",
    "#print(result_key)\n",
    "\n",
    "# в цикле считаем количест запросов с одинаковым кол-вом слов\n",
    "for inquiry in result_key:\n",
    "    #print(inquiry)\n",
    "    # делаем пересчет запросов с одинаковым кол-вом слов\n",
    "    inquiry_count = result_key.count(inquiry)\n",
    "    #print(result_key.count(i))\n",
    "    # добавляем результат в подготовлненный список\n",
    "    result_value.append(inquiry_count)\n",
    "#print('result_value')\n",
    "#print(result_value)\n",
    "\n",
    "# образуем в словарь два списка\n",
    "queries_dikt = zip(result_key, result_value)\n",
    "print(list(queries_dikt))\n",
    "# не могу понять почему сет не работает \n",
    "print(set(queries_dikt))"
   ]
  },
  {
   "cell_type": "markdown",
   "metadata": {},
   "source": [
    "**Задание 4**. Дана статистика рекламных каналов по объемам продаж. Напишите скрипт, который возвращает название канала с максимальным объемом.\n",
    "Т. е. в данном примере скрипт должен возвращать 'yandex'."
   ]
  },
  {
   "cell_type": "code",
   "execution_count": 57,
   "metadata": {},
   "outputs": [],
   "source": [
    "stats = {'facebook': 55, 'yandex': 120, 'vk': 115, 'google': 99, 'email': 42, 'ok': 98}"
   ]
  },
  {
   "cell_type": "code",
   "execution_count": 62,
   "metadata": {},
   "outputs": [
    {
     "name": "stdout",
     "output_type": "stream",
     "text": [
      "('yandex', 120)\n"
     ]
    }
   ],
   "source": [
    "# тут меня осенило на целых два варианта\n",
    "\n",
    "# первый вариант , одной строкой, более эффективный позже пришел в голову\n",
    "print(max(stats.items()))"
   ]
  },
  {
   "cell_type": "code",
   "execution_count": 58,
   "metadata": {},
   "outputs": [
    {
     "name": "stdout",
     "output_type": "stream",
     "text": [
      "('yandex', 120)\n"
     ]
    }
   ],
   "source": [
    "# и второй вариант, не эффективный и окольным путем, но рабочий\n",
    "\n",
    "# создаем переменную под будущий список\n",
    "max_ = []\n",
    "# демаем цикл\n",
    "for value in stats.items():\n",
    "    # перебираем значения из словаря\n",
    "    # добавляем их в список\n",
    "    max_.append(value)\n",
    "# выводим максимальное значение в списке\n",
    "print(max(max_))\n"
   ]
  },
  {
   "cell_type": "code",
   "execution_count": 59,
   "metadata": {},
   "outputs": [],
   "source": [
    "# очищаем переменную\n",
    "del max_"
   ]
  },
  {
   "cell_type": "markdown",
   "metadata": {},
   "source": [
    "**Задание 5**. Напишите код для преобразования произвольного списка вида ['2018-01-01', 'yandex', 'cpc', 100] (он может быть любой длины) в словарь {'2018-01-01': {'yandex': {'cpc': 100}}}"
   ]
  },
  {
   "cell_type": "code",
   "execution_count": 14,
   "metadata": {},
   "outputs": [
    {
     "name": "stdout",
     "output_type": "stream",
     "text": [
      "{'2018-01-01': {'yandex': {'cpc': 100}}}\n",
      "\n",
      "dict_keys(['2018-01-01'])\n",
      "dict_values([{'yandex': {'cpc': 100}}])\n"
     ]
    }
   ],
   "source": [
    "# назначаем список в переменную\n",
    "values = ['2018-01-01', 'yandex', 'cpc', 100]\n",
    "\n",
    "# назначаем переменную в которую будем складывать результат из цикла\n",
    "# так же в этой переменной будет производиться удаление значений индексов списка переменной values\n",
    "result = values.pop()\n",
    "\n",
    "# запускаем цикл, где разбиваем список на индексы (значения в них)\n",
    "# в обратном направлении\n",
    "for i in reversed(values):\n",
    "    #print(i)\n",
    "    # назначаем новую переменную в которую помещаем i в виде словаря,\n",
    "    # где первое(а во время работы цикла последнее) значение - ключ\n",
    "    result = {i:result}\n",
    "\n",
    "print(result)\n",
    "#print()\n",
    "#print(result.keys())\n",
    "#print(result.values())"
   ]
  },
  {
   "cell_type": "code",
   "execution_count": null,
   "metadata": {},
   "outputs": [],
   "source": []
  }
 ],
 "metadata": {
  "kernelspec": {
   "display_name": "Python 3",
   "language": "python",
   "name": "python3"
  },
  "language_info": {
   "codemirror_mode": {
    "name": "ipython",
    "version": 3
   },
   "file_extension": ".py",
   "mimetype": "text/x-python",
   "name": "python",
   "nbconvert_exporter": "python",
   "pygments_lexer": "ipython3",
   "version": "3.7.6"
  }
 },
 "nbformat": 4,
 "nbformat_minor": 2
}

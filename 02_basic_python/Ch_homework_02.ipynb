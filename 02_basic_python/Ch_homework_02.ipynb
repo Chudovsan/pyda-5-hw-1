{
 "cells": [
  {
   "cell_type": "markdown",
   "metadata": {},
   "source": [
    "# Задание 1. \n",
    "Даны 2 строки: long_phrase и short_phrase. Напишите код, который проверяет действительно ли длинная фраза long_phrase длиннее короткой short_phrase. И выводит True или False в зависимости от результата сравнения."
   ]
  },
  {
   "cell_type": "code",
   "execution_count": 1,
   "metadata": {},
   "outputs": [],
   "source": [
    "long_phrase = 'Насколько проще было бы писать программы, если бы не заказчики'\n",
    "short_phrase = '640Кб должно хватить для любых задач. Билл Гейтс (по легенде)'"
   ]
  },
  {
   "cell_type": "code",
   "execution_count": 2,
   "metadata": {},
   "outputs": [
    {
     "name": "stdout",
     "output_type": "stream",
     "text": [
      "False\n"
     ]
    }
   ],
   "source": [
    "print(len(long_phrase) == len(short_phrase))"
   ]
  },
  {
   "cell_type": "markdown",
   "metadata": {},
   "source": [
    "# Задание 2. \n",
    "Дано значение объема файла в байтах (в мегабайте 2^20 байт). Напишите перевод этого значения в мегабайты в формате: \"Объем файла равен 213.68Mb\"."
   ]
  },
  {
   "cell_type": "code",
   "execution_count": 3,
   "metadata": {},
   "outputs": [
    {
     "name": "stdout",
     "output_type": "stream",
     "text": [
      "Введите размер файла в байтах: 256486546\n",
      "Объём файла равен: 244.60 Mb.\n"
     ]
    }
   ],
   "source": [
    "values = int(input('Введите размер файла в байтах: '))\n",
    "result = values / 2**20\n",
    "print('Объём файла равен: {:.2f} Mb.'.format(result))"
   ]
  },
  {
   "cell_type": "markdown",
   "metadata": {},
   "source": [
    "# Задание 3. \n",
    "Разработать приложение для определения знака зодиака по дате рождения. \n",
    "Пример:\n",
    "\n",
    "Введите месяц: март\n",
    "\n",
    "Введите число: 6\n",
    "\n",
    "Вывод: Рыбы"
   ]
  },
  {
   "cell_type": "code",
   "execution_count": 5,
   "metadata": {},
   "outputs": [
    {
     "name": "stdout",
     "output_type": "stream",
     "text": [
      "Какой ваш знак зодиака?\n",
      "Введите месяц (1-12): 10\n",
      "Введите число (1-31): 26\n",
      "Ваш знак зодиака: Скорпион.\n"
     ]
    }
   ],
   "source": [
    "print('Какой ваш знак зодиака?')\n",
    "# назначаем переменные\n",
    "# Запрашиваем месяц и число у пользователя\n",
    "month = int(input('Введите месяц (1-12): '))\n",
    "data = int(input('Введите число (1-31): '))\n",
    "\n",
    "# перебор подходящего интервала \n",
    "# на основе введеных данных \n",
    "\n",
    "# интервал Овен\n",
    "if month == 3 and data >= 21 and data <= 31\\\n",
    "    or month == 4 and data >= 1 and data <= 20:\n",
    "    print('Ваш знак зодиака: Овен.')\n",
    "# интервал Телец\n",
    "elif month == 4 and data >= 21 and data <= 30\\\n",
    "    or month == 5 and data >= 1 and data <= 21:\n",
    "    print('Ваш знак зодиака: Телец.')\n",
    "# интервал Близницы\n",
    "elif month == 5 and data >= 22 and data <= 31\\\n",
    "    or month == 6 and data >= 1 and data <= 21:\n",
    "    print('Ваш знак зодиака: Близницы.')\n",
    "# интервал Рак\n",
    "elif month == 6 and data >= 22 and data <= 30\\\n",
    "    or month == 7 and data >= 1 and data <= 22:\n",
    "    print('Ваш знак зодиака: Рак.')\n",
    "# интервал Лев\n",
    "elif month == 7 and data >= 23 and data <= 31\\\n",
    "    or month == 8 and data >= 1 and data <= 21:\n",
    "    print('Ваш знак зодиака: Лев.')\n",
    "# интервал Дева\n",
    "elif month == 8 and data >= 22 and data <= 31\\\n",
    "    or month == 9 and data >= 1 and data <= 23:\n",
    "    print('Ваш знак зодиака: Дева.')\n",
    "# интервал Весы\n",
    "elif month == 9 and data >= 24 and data <= 30\\\n",
    "    or month == 10 and data >= 1 and data <= 23:\n",
    "    print('Ваш знак зодиака: Весы.')\n",
    "# интервал Скорпион\n",
    "elif month == 10 and data >= 24 and data <= 31\\\n",
    "    or month == 11 and data >= 1 and data <= 22:\n",
    "    print('Ваш знак зодиака: Скорпион.')\n",
    "# интервал Стрелец\n",
    "elif month == 11 and data >= 23 and data <= 30\\\n",
    "    or month == 12 and data >= 1 and data <= 22:\n",
    "    print('Ваш знак зодиака: Стрелец.')\n",
    "# интервал Козерог\n",
    "elif month == 12 and data >= 23 and data <= 31\\\n",
    "    or month == 1 and data >= 1 and data <= 20:\n",
    "    print('Ваш знак зодиака: Козерог.')\n",
    "# интервал Водолей\n",
    "elif month == 1 and data >= 21 and data <= 31\\\n",
    "    or month == 1 and data >= 1 and data <= 19:\n",
    "    print('Ваш знак зодиака: Водолей.')\n",
    "# интервал Рыба\n",
    "elif month == 2 and data >= 20 and data <= 29\\\n",
    "    or month == 3 and data >= 1 and data <= 20:\n",
    "    print('Ваш знак зодиака: Рыба.')\n",
    "# в остальных случаях ввода\n",
    "else:\n",
    "    print('Неверно введены месяц или число. Попробуйте ещё раз.')"
   ]
  },
  {
   "cell_type": "markdown",
   "metadata": {},
   "source": [
    "# Задание 4. \n",
    "Нужно разработать приложение для финансового планирования. Приложение учитывает сколько уходит на ипотеку, \"на жизнь\" и сколько нужно отложить на пенсию. Пользователь вводит:\n",
    "\n",
    "заработанную плату в месяц.\n",
    "сколько процентов от ЗП уходит на ипотеку.\n",
    "сколько процентов от ЗП уходит \"на жизнь\".\n",
    "сколько раз приходит премия в год.\n",
    "Остальная часть заработанной платы откладывается на пенсию.\n",
    "\n",
    "Также пользователю приходит премия в размере зарплаты, от которой половина уходит на отпуск, а вторая половина откладывается.\n",
    "\n",
    "Программа должна учитывать сколько премий было в год.\n",
    "\n",
    "Нужно вывести сколько денег тратит пользователь на ипотеку и сколько он накопит за год.\n",
    "\n",
    "* Пример:\n",
    "\n",
    "Введите заработанную плату в месяц: 100000\n",
    "\n",
    "Введите сколько процентов уходит на ипотеку: 30\n",
    "\n",
    "Введите сколько процентов уходит на жизнь: 50\n",
    "\n",
    "Введите количество премий за год: 2\n",
    "\n",
    "Вывод: На ипотеку было потрачено: 360000 рублей Было накоплено: 340000 рублей"
   ]
  },
  {
   "cell_type": "code",
   "execution_count": 6,
   "metadata": {},
   "outputs": [
    {
     "name": "stdout",
     "output_type": "stream",
     "text": [
      "Введите заработную плату в месяц: 90000\n",
      "Введите сколько процентов уходит на ипотеку: 30\n",
      "Введите сколько процентов уходит на жизнь: 50\n",
      "Введите количество премий за год: 3\n",
      "Вывод: На ипотеку было потрачено 324000.0 рублей. Было накоплено 351000.0 рублей.\n"
     ]
    }
   ],
   "source": [
    "# назначаем переменные\n",
    "# Запрашиваем у пользователя информацию\n",
    "salary = int(input('Введите заработную плату в месяц: '))\n",
    "procent_mortgage = int(input('Введите сколько процентов уходит на ипотеку: '))\n",
    "procent_life = int(input('Введите сколько процентов уходит на жизнь: '))\n",
    "sum_prize = int(input('Введите количество премий за год: '))\n",
    "\n",
    "balance_minus_mortgage = (salary / 100 * 12) * procent_mortgage\n",
    "balance_minus_life = (salary / 100 * 12) * procent_life\n",
    "sum_accumulated = (sum_prize * salary / 2) + (salary * 12) - (balance_minus_mortgage + balance_minus_life)\n",
    "\n",
    "print('Вывод: На ипотеку было потрачено {} рублей. Было накоплено {} рублей.'\\\n",
    "      .format(balance_minus_mortgage, sum_accumulated))"
   ]
  },
  {
   "cell_type": "code",
   "execution_count": null,
   "metadata": {},
   "outputs": [],
   "source": []
  }
 ],
 "metadata": {
  "kernelspec": {
   "display_name": "Python 3",
   "language": "python",
   "name": "python3"
  },
  "language_info": {
   "codemirror_mode": {
    "name": "ipython",
    "version": 3
   },
   "file_extension": ".py",
   "mimetype": "text/x-python",
   "name": "python",
   "nbconvert_exporter": "python",
   "pygments_lexer": "ipython3",
   "version": "3.7.6"
  }
 },
 "nbformat": 4,
 "nbformat_minor": 4
}

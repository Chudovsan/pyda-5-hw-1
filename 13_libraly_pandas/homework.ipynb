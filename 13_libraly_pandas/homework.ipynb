{
 "cells": [
  {
   "cell_type": "markdown",
   "metadata": {},
   "source": [
    "# Домашнее задание"
   ]
  },
  {
   "cell_type": "markdown",
   "metadata": {},
   "source": [
    "**Задание 1**\n",
    "Скачайте с сайта https://grouplens.org/datasets/movielens/ датасет любого размера. Определите какому фильму было выставлено больше всего оценок 5.0."
   ]
  },
  {
   "cell_type": "code",
   "execution_count": 1,
   "metadata": {},
   "outputs": [],
   "source": [
    "import pandas as pd"
   ]
  },
  {
   "cell_type": "code",
   "execution_count": 172,
   "metadata": {},
   "outputs": [],
   "source": [
    "data = pd.read_csv('ratings.csv')"
   ]
  },
  {
   "cell_type": "code",
   "execution_count": 173,
   "metadata": {},
   "outputs": [],
   "source": [
    "data_movies = pd.read_csv('movies.csv')"
   ]
  },
  {
   "cell_type": "code",
   "execution_count": 174,
   "metadata": {},
   "outputs": [],
   "source": [
    "data_joined = data.merge(data_movies, on='movieId', how='left')"
   ]
  },
  {
   "cell_type": "code",
   "execution_count": 175,
   "metadata": {},
   "outputs": [],
   "source": [
    "fin_format = data_joined[['movieId', 'title', 'rating']]"
   ]
  },
  {
   "cell_type": "code",
   "execution_count": 176,
   "metadata": {},
   "outputs": [],
   "source": [
    "max_ = fin_format['rating'].max()"
   ]
  },
  {
   "cell_type": "code",
   "execution_count": 177,
   "metadata": {},
   "outputs": [
    {
     "data": {
      "text/html": [
       "<div>\n",
       "<style scoped>\n",
       "    .dataframe tbody tr th:only-of-type {\n",
       "        vertical-align: middle;\n",
       "    }\n",
       "\n",
       "    .dataframe tbody tr th {\n",
       "        vertical-align: top;\n",
       "    }\n",
       "\n",
       "    .dataframe thead th {\n",
       "        text-align: right;\n",
       "    }\n",
       "</style>\n",
       "<table border=\"1\" class=\"dataframe\">\n",
       "  <thead>\n",
       "    <tr style=\"text-align: right;\">\n",
       "      <th></th>\n",
       "      <th>movieId</th>\n",
       "      <th>title</th>\n",
       "      <th>rating</th>\n",
       "    </tr>\n",
       "  </thead>\n",
       "  <tbody>\n",
       "    <tr>\n",
       "      <th>0</th>\n",
       "      <td>296</td>\n",
       "      <td>Pulp Fiction (1994)</td>\n",
       "      <td>5.0</td>\n",
       "    </tr>\n",
       "    <tr>\n",
       "      <th>2</th>\n",
       "      <td>307</td>\n",
       "      <td>Three Colors: Blue (Trois couleurs: Bleu) (1993)</td>\n",
       "      <td>5.0</td>\n",
       "    </tr>\n",
       "    <tr>\n",
       "      <th>3</th>\n",
       "      <td>665</td>\n",
       "      <td>Underground (1995)</td>\n",
       "      <td>5.0</td>\n",
       "    </tr>\n",
       "    <tr>\n",
       "      <th>8</th>\n",
       "      <td>1237</td>\n",
       "      <td>Seventh Seal, The (Sjunde inseglet, Det) (1957)</td>\n",
       "      <td>5.0</td>\n",
       "    </tr>\n",
       "    <tr>\n",
       "      <th>18</th>\n",
       "      <td>2632</td>\n",
       "      <td>Saragossa Manuscript, The (Rekopis znaleziony ...</td>\n",
       "      <td>5.0</td>\n",
       "    </tr>\n",
       "  </tbody>\n",
       "</table>\n",
       "</div>"
      ],
      "text/plain": [
       "    movieId                                              title  rating\n",
       "0       296                                Pulp Fiction (1994)     5.0\n",
       "2       307   Three Colors: Blue (Trois couleurs: Bleu) (1993)     5.0\n",
       "3       665                                 Underground (1995)     5.0\n",
       "8      1237    Seventh Seal, The (Sjunde inseglet, Det) (1957)     5.0\n",
       "18     2632  Saragossa Manuscript, The (Rekopis znaleziony ...     5.0"
      ]
     },
     "execution_count": 177,
     "metadata": {},
     "output_type": "execute_result"
    }
   ],
   "source": [
    "fin_format[fin_format.rating == max_].head()"
   ]
  },
  {
   "cell_type": "markdown",
   "metadata": {},
   "source": [
    "**Задание 2**\n",
    "По данным файла power.csv посчитайте суммарное потребление стран Прибалтики (Латвия, Литва и Эстония) категорий 4, 12 и 21 за период с 2005 по 2010 года. Не учитывайте в расчетах отрицательные значения quantity."
   ]
  },
  {
   "cell_type": "code",
   "execution_count": 2,
   "metadata": {},
   "outputs": [
    {
     "data": {
      "text/html": [
       "<div>\n",
       "<style scoped>\n",
       "    .dataframe tbody tr th:only-of-type {\n",
       "        vertical-align: middle;\n",
       "    }\n",
       "\n",
       "    .dataframe tbody tr th {\n",
       "        vertical-align: top;\n",
       "    }\n",
       "\n",
       "    .dataframe thead th {\n",
       "        text-align: right;\n",
       "    }\n",
       "</style>\n",
       "<table border=\"1\" class=\"dataframe\">\n",
       "  <thead>\n",
       "    <tr style=\"text-align: right;\">\n",
       "      <th></th>\n",
       "      <th>country</th>\n",
       "      <th>year</th>\n",
       "      <th>quantity</th>\n",
       "      <th>category</th>\n",
       "    </tr>\n",
       "  </thead>\n",
       "  <tbody>\n",
       "    <tr>\n",
       "      <th>0</th>\n",
       "      <td>Austria</td>\n",
       "      <td>1996</td>\n",
       "      <td>5.0</td>\n",
       "      <td>1</td>\n",
       "    </tr>\n",
       "    <tr>\n",
       "      <th>1</th>\n",
       "      <td>Austria</td>\n",
       "      <td>1995</td>\n",
       "      <td>17.0</td>\n",
       "      <td>1</td>\n",
       "    </tr>\n",
       "    <tr>\n",
       "      <th>2</th>\n",
       "      <td>Belgium</td>\n",
       "      <td>2014</td>\n",
       "      <td>0.0</td>\n",
       "      <td>1</td>\n",
       "    </tr>\n",
       "    <tr>\n",
       "      <th>3</th>\n",
       "      <td>Belgium</td>\n",
       "      <td>2013</td>\n",
       "      <td>0.0</td>\n",
       "      <td>1</td>\n",
       "    </tr>\n",
       "    <tr>\n",
       "      <th>4</th>\n",
       "      <td>Belgium</td>\n",
       "      <td>2012</td>\n",
       "      <td>35.0</td>\n",
       "      <td>1</td>\n",
       "    </tr>\n",
       "  </tbody>\n",
       "</table>\n",
       "</div>"
      ],
      "text/plain": [
       "   country  year  quantity  category\n",
       "0  Austria  1996       5.0         1\n",
       "1  Austria  1995      17.0         1\n",
       "2  Belgium  2014       0.0         1\n",
       "3  Belgium  2013       0.0         1\n",
       "4  Belgium  2012      35.0         1"
      ]
     },
     "execution_count": 2,
     "metadata": {},
     "output_type": "execute_result"
    }
   ],
   "source": [
    "data = pd.read_csv('power.csv')\n",
    "data.head()"
   ]
  },
  {
   "cell_type": "code",
   "execution_count": 179,
   "metadata": {},
   "outputs": [],
   "source": [
    "#data[ data['country'].str.contains('tv', case=False) ]['country'].unique()"
   ]
  },
  {
   "cell_type": "code",
   "execution_count": 180,
   "metadata": {},
   "outputs": [],
   "source": [
    "#data[ data['country'].str.contains('lit', case=False) ]['country'].unique()"
   ]
  },
  {
   "cell_type": "code",
   "execution_count": 181,
   "metadata": {},
   "outputs": [],
   "source": [
    "#data[ data['country'].str.contains('ton', case=False) ]['country'].unique()"
   ]
  },
  {
   "cell_type": "code",
   "execution_count": 91,
   "metadata": {},
   "outputs": [],
   "source": [
    "filtered_countries = data[(data['country'] == 'Latvia') \n",
    "                          | (data['country'] == 'Lithuania') \n",
    "                          | (data['country'] == 'Estonia')]"
   ]
  },
  {
   "cell_type": "code",
   "execution_count": 92,
   "metadata": {},
   "outputs": [],
   "source": [
    "#filtered_countries['country'].unique()"
   ]
  },
  {
   "cell_type": "code",
   "execution_count": 93,
   "metadata": {},
   "outputs": [],
   "source": [
    "filtered_year = filtered_countries[filtered_countries.year >= 2005]"
   ]
  },
  {
   "cell_type": "code",
   "execution_count": 111,
   "metadata": {},
   "outputs": [],
   "source": [
    "filtered_year_two = filtered_year[filtered_year.year <= 2010]"
   ]
  },
  {
   "cell_type": "code",
   "execution_count": 112,
   "metadata": {},
   "outputs": [],
   "source": [
    "#filtered_year_two['year'].max()"
   ]
  },
  {
   "cell_type": "code",
   "execution_count": 113,
   "metadata": {},
   "outputs": [],
   "source": [
    "#filtered_year_two['year'].min()"
   ]
  },
  {
   "cell_type": "code",
   "execution_count": 114,
   "metadata": {},
   "outputs": [],
   "source": [
    "filtred_quantity = filtered_year_two[filtered_year_two.quantity >= 0]"
   ]
  },
  {
   "cell_type": "code",
   "execution_count": 115,
   "metadata": {},
   "outputs": [],
   "source": [
    "filtred_category = filtred_quantity[(filtred_quantity['category'].isin([4, 12, 21]))]"
   ]
  },
  {
   "cell_type": "code",
   "execution_count": 116,
   "metadata": {},
   "outputs": [],
   "source": [
    "fin_filtered = filtred_category[['country', 'category', 'quantity']].groupby(\n",
    "    ['country', 'category']).sum().sort_values(by='quantity', ascending=True)"
   ]
  },
  {
   "cell_type": "code",
   "execution_count": 117,
   "metadata": {},
   "outputs": [
    {
     "data": {
      "text/html": [
       "<div>\n",
       "<style scoped>\n",
       "    .dataframe tbody tr th:only-of-type {\n",
       "        vertical-align: middle;\n",
       "    }\n",
       "\n",
       "    .dataframe tbody tr th {\n",
       "        vertical-align: top;\n",
       "    }\n",
       "\n",
       "    .dataframe thead th {\n",
       "        text-align: right;\n",
       "    }\n",
       "</style>\n",
       "<table border=\"1\" class=\"dataframe\">\n",
       "  <thead>\n",
       "    <tr style=\"text-align: right;\">\n",
       "      <th></th>\n",
       "      <th></th>\n",
       "      <th>quantity</th>\n",
       "    </tr>\n",
       "    <tr>\n",
       "      <th>country</th>\n",
       "      <th>category</th>\n",
       "      <th></th>\n",
       "    </tr>\n",
       "  </thead>\n",
       "  <tbody>\n",
       "    <tr>\n",
       "      <th>Latvia</th>\n",
       "      <th>4</th>\n",
       "      <td>0.0</td>\n",
       "    </tr>\n",
       "    <tr>\n",
       "      <th>Lithuania</th>\n",
       "      <th>4</th>\n",
       "      <td>18.0</td>\n",
       "    </tr>\n",
       "    <tr>\n",
       "      <th>Estonia</th>\n",
       "      <th>4</th>\n",
       "      <td>28.0</td>\n",
       "    </tr>\n",
       "    <tr>\n",
       "      <th>Lithuania</th>\n",
       "      <th>12</th>\n",
       "      <td>6326.0</td>\n",
       "    </tr>\n",
       "    <tr>\n",
       "      <th>Latvia</th>\n",
       "      <th>21</th>\n",
       "      <td>54844.0</td>\n",
       "    </tr>\n",
       "    <tr>\n",
       "      <th>Estonia</th>\n",
       "      <th>21</th>\n",
       "      <td>63412.0</td>\n",
       "    </tr>\n",
       "    <tr>\n",
       "      <th>Lithuania</th>\n",
       "      <th>21</th>\n",
       "      <td>115952.0</td>\n",
       "    </tr>\n",
       "  </tbody>\n",
       "</table>\n",
       "</div>"
      ],
      "text/plain": [
       "                    quantity\n",
       "country   category          \n",
       "Latvia    4              0.0\n",
       "Lithuania 4             18.0\n",
       "Estonia   4             28.0\n",
       "Lithuania 12          6326.0\n",
       "Latvia    21         54844.0\n",
       "Estonia   21         63412.0\n",
       "Lithuania 21        115952.0"
      ]
     },
     "execution_count": 117,
     "metadata": {},
     "output_type": "execute_result"
    }
   ],
   "source": [
    "fin_filtered"
   ]
  },
  {
   "cell_type": "markdown",
   "metadata": {},
   "source": [
    "**Задание 3**\n",
    "Выберите страницу любого сайта с табличными данными. Импортируйте таблицы в pandas dataframe.\n",
    "Примеры страниц (необязательно брать именно эти): \n",
    "https://fortrader.org/quotes\n",
    "https://www.finanz.ru/valyuty/v-realnom-vremeni"
   ]
  },
  {
   "cell_type": "code",
   "execution_count": 6,
   "metadata": {},
   "outputs": [
    {
     "data": {
      "text/html": [
       "<div>\n",
       "<style scoped>\n",
       "    .dataframe tbody tr th:only-of-type {\n",
       "        vertical-align: middle;\n",
       "    }\n",
       "\n",
       "    .dataframe tbody tr th {\n",
       "        vertical-align: top;\n",
       "    }\n",
       "\n",
       "    .dataframe thead th {\n",
       "        text-align: right;\n",
       "    }\n",
       "</style>\n",
       "<table border=\"1\" class=\"dataframe\">\n",
       "  <thead>\n",
       "    <tr style=\"text-align: right;\">\n",
       "      <th></th>\n",
       "      <th>Название</th>\n",
       "      <th>Цена</th>\n",
       "      <th>Изменение</th>\n",
       "      <th>Изменение(%)</th>\n",
       "      <th>Обновлено</th>\n",
       "    </tr>\n",
       "  </thead>\n",
       "  <tbody>\n",
       "    <tr>\n",
       "      <th>0</th>\n",
       "      <td>Нефть (BRENT) Курс нефти сегодня</td>\n",
       "      <td>43.330</td>\n",
       "      <td>0.210</td>\n",
       "      <td>0.490</td>\n",
       "      <td>NaN</td>\n",
       "    </tr>\n",
       "    <tr>\n",
       "      <th>1</th>\n",
       "      <td>Нефть (WTI) Цены на нефть (WTI)</td>\n",
       "      <td>40.780</td>\n",
       "      <td>0.040</td>\n",
       "      <td>0.100</td>\n",
       "      <td>NaN</td>\n",
       "    </tr>\n",
       "    <tr>\n",
       "      <th>2</th>\n",
       "      <td>Сахар котировки на сахар</td>\n",
       "      <td>12.630</td>\n",
       "      <td>11.390</td>\n",
       "      <td>918.550</td>\n",
       "      <td>NaN</td>\n",
       "    </tr>\n",
       "    <tr>\n",
       "      <th>3</th>\n",
       "      <td>Газ Цена на газ</td>\n",
       "      <td>1.908</td>\n",
       "      <td>0.037</td>\n",
       "      <td>1.978</td>\n",
       "      <td>NaN</td>\n",
       "    </tr>\n",
       "  </tbody>\n",
       "</table>\n",
       "</div>"
      ],
      "text/plain": [
       "                           Название    Цена  Изменение  Изменение(%)  \\\n",
       "0  Нефть (BRENT) Курс нефти сегодня  43.330      0.210         0.490   \n",
       "1   Нефть (WTI) Цены на нефть (WTI)  40.780      0.040         0.100   \n",
       "2          Сахар котировки на сахар  12.630     11.390       918.550   \n",
       "3                   Газ Цена на газ   1.908      0.037         1.978   \n",
       "\n",
       "   Обновлено  \n",
       "0        NaN  \n",
       "1        NaN  \n",
       "2        NaN  \n",
       "3        NaN  "
      ]
     },
     "execution_count": 6,
     "metadata": {},
     "output_type": "execute_result"
    }
   ],
   "source": [
    "df = pd.read_html('https://fortrader.org/quotes')[1]\n",
    "df.head()"
   ]
  },
  {
   "cell_type": "code",
   "execution_count": 12,
   "metadata": {},
   "outputs": [
    {
     "data": {
      "text/html": [
       "<div>\n",
       "<style scoped>\n",
       "    .dataframe tbody tr th:only-of-type {\n",
       "        vertical-align: middle;\n",
       "    }\n",
       "\n",
       "    .dataframe tbody tr th {\n",
       "        vertical-align: top;\n",
       "    }\n",
       "\n",
       "    .dataframe thead th {\n",
       "        text-align: right;\n",
       "    }\n",
       "</style>\n",
       "<table border=\"1\" class=\"dataframe\">\n",
       "  <thead>\n",
       "    <tr style=\"text-align: right;\">\n",
       "      <th></th>\n",
       "      <th>Unnamed: 0</th>\n",
       "      <th>Рубль</th>\n",
       "      <th>Предложение</th>\n",
       "      <th>Спрос</th>\n",
       "      <th>Предыдущее закрытие</th>\n",
       "      <th>%</th>\n",
       "      <th>Абсолютное значение</th>\n",
       "      <th>Время</th>\n",
       "    </tr>\n",
       "  </thead>\n",
       "  <tbody>\n",
       "    <tr>\n",
       "      <th>0</th>\n",
       "      <td>NaN</td>\n",
       "      <td>GBP/RUB</td>\n",
       "      <td>896866</td>\n",
       "      <td>-</td>\n",
       "      <td>896847</td>\n",
       "      <td>0,00 %</td>\n",
       "      <td>00019</td>\n",
       "      <td>18:25:00</td>\n",
       "    </tr>\n",
       "    <tr>\n",
       "      <th>1</th>\n",
       "      <td>NaN</td>\n",
       "      <td>EUR/RUB</td>\n",
       "      <td>805300</td>\n",
       "      <td>-</td>\n",
       "      <td>812020</td>\n",
       "      <td>-0,83 %</td>\n",
       "      <td>-06720</td>\n",
       "      <td>18:31:00</td>\n",
       "    </tr>\n",
       "    <tr>\n",
       "      <th>2</th>\n",
       "      <td>NaN</td>\n",
       "      <td>USD/RUB</td>\n",
       "      <td>713293</td>\n",
       "      <td>-</td>\n",
       "      <td>717944</td>\n",
       "      <td>-0,65 %</td>\n",
       "      <td>-04651</td>\n",
       "      <td>18:31:00</td>\n",
       "    </tr>\n",
       "    <tr>\n",
       "      <th>3</th>\n",
       "      <td>NaN</td>\n",
       "      <td>JPY/RUB</td>\n",
       "      <td>06627</td>\n",
       "      <td>-</td>\n",
       "      <td>06686</td>\n",
       "      <td>-0,87 %</td>\n",
       "      <td>-00059</td>\n",
       "      <td>18:25:00</td>\n",
       "    </tr>\n",
       "    <tr>\n",
       "      <th>4</th>\n",
       "      <td>NaN</td>\n",
       "      <td>CNY/RUB</td>\n",
       "      <td>101637</td>\n",
       "      <td>-</td>\n",
       "      <td>102288</td>\n",
       "      <td>-0,64 %</td>\n",
       "      <td>-00650</td>\n",
       "      <td>18:31:00</td>\n",
       "    </tr>\n",
       "    <tr>\n",
       "      <th>5</th>\n",
       "      <td>NaN</td>\n",
       "      <td>CHF/RUB</td>\n",
       "      <td>757250</td>\n",
       "      <td>-</td>\n",
       "      <td>762060</td>\n",
       "      <td>-0,63 %</td>\n",
       "      <td>-04810</td>\n",
       "      <td>18:25:00</td>\n",
       "    </tr>\n",
       "    <tr>\n",
       "      <th>6</th>\n",
       "      <td>NaN</td>\n",
       "      <td>Евро</td>\n",
       "      <td>Предложение</td>\n",
       "      <td>Спрос</td>\n",
       "      <td>Предыдущее закрытие</td>\n",
       "      <td>%</td>\n",
       "      <td>Абсолютное значение</td>\n",
       "      <td>Время</td>\n",
       "    </tr>\n",
       "    <tr>\n",
       "      <th>7</th>\n",
       "      <td>NaN</td>\n",
       "      <td>EUR/USD</td>\n",
       "      <td>11295</td>\n",
       "      <td>-</td>\n",
       "      <td>11312</td>\n",
       "      <td>-0,15 %</td>\n",
       "      <td>-00017</td>\n",
       "      <td>18:31:00</td>\n",
       "    </tr>\n",
       "    <tr>\n",
       "      <th>8</th>\n",
       "      <td>NaN</td>\n",
       "      <td>EUR/GBP</td>\n",
       "      <td>08979</td>\n",
       "      <td>-</td>\n",
       "      <td>09058</td>\n",
       "      <td>-0,87 %</td>\n",
       "      <td>-00079</td>\n",
       "      <td>18:31:00</td>\n",
       "    </tr>\n",
       "    <tr>\n",
       "      <th>9</th>\n",
       "      <td>NaN</td>\n",
       "      <td>EUR/JPY</td>\n",
       "      <td>1214750</td>\n",
       "      <td>-</td>\n",
       "      <td>1214350</td>\n",
       "      <td>0,03 %</td>\n",
       "      <td>00400</td>\n",
       "      <td>18:31:00</td>\n",
       "    </tr>\n",
       "  </tbody>\n",
       "</table>\n",
       "</div>"
      ],
      "text/plain": [
       "   Unnamed: 0    Рубль  Предложение  Спрос  Предыдущее закрытие        %  \\\n",
       "0         NaN  GBP/RUB       896866      -               896847   0,00 %   \n",
       "1         NaN  EUR/RUB       805300      -               812020  -0,83 %   \n",
       "2         NaN  USD/RUB       713293      -               717944  -0,65 %   \n",
       "3         NaN  JPY/RUB        06627      -                06686  -0,87 %   \n",
       "4         NaN  CNY/RUB       101637      -               102288  -0,64 %   \n",
       "5         NaN  CHF/RUB       757250      -               762060  -0,63 %   \n",
       "6         NaN     Евро  Предложение  Спрос  Предыдущее закрытие        %   \n",
       "7         NaN  EUR/USD        11295      -                11312  -0,15 %   \n",
       "8         NaN  EUR/GBP        08979      -                09058  -0,87 %   \n",
       "9         NaN  EUR/JPY      1214750      -              1214350   0,03 %   \n",
       "\n",
       "   Абсолютное значение     Время  \n",
       "0                00019  18:25:00  \n",
       "1               -06720  18:31:00  \n",
       "2               -04651  18:31:00  \n",
       "3               -00059  18:25:00  \n",
       "4               -00650  18:31:00  \n",
       "5               -04810  18:25:00  \n",
       "6  Абсолютное значение     Время  \n",
       "7               -00017  18:31:00  \n",
       "8               -00079  18:31:00  \n",
       "9                00400  18:31:00  "
      ]
     },
     "execution_count": 12,
     "metadata": {},
     "output_type": "execute_result"
    }
   ],
   "source": [
    "df = pd.read_html('https://www.finanz.ru/valyuty/v-realnom-vremeni', encoding='utf-8')[1]\n",
    "df.head(10)"
   ]
  },
  {
   "cell_type": "code",
   "execution_count": null,
   "metadata": {},
   "outputs": [],
   "source": []
  }
 ],
 "metadata": {
  "kernelspec": {
   "display_name": "Python 3",
   "language": "python",
   "name": "python3"
  },
  "language_info": {
   "codemirror_mode": {
    "name": "ipython",
    "version": 3
   },
   "file_extension": ".py",
   "mimetype": "text/x-python",
   "name": "python",
   "nbconvert_exporter": "python",
   "pygments_lexer": "ipython3",
   "version": "3.7.6"
  }
 },
 "nbformat": 4,
 "nbformat_minor": 4
}

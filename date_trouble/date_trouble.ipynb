{
 "cells": [
  {
   "cell_type": "code",
   "execution_count": 61,
   "metadata": {},
   "outputs": [],
   "source": [
    "import pandas as pd\n",
    "from datetime import datetime\n",
    "from dateutil import parser \n",
    "import re\n",
    "import locale"
   ]
  },
  {
   "cell_type": "code",
   "execution_count": 62,
   "metadata": {},
   "outputs": [],
   "source": [
    "df = pd.read_csv('date_trouble_short.csv', sep=',')"
   ]
  },
  {
   "cell_type": "code",
   "execution_count": 64,
   "metadata": {},
   "outputs": [
    {
     "data": {
      "text/html": [
       "<div>\n",
       "<style scoped>\n",
       "    .dataframe tbody tr th:only-of-type {\n",
       "        vertical-align: middle;\n",
       "    }\n",
       "\n",
       "    .dataframe tbody tr th {\n",
       "        vertical-align: top;\n",
       "    }\n",
       "\n",
       "    .dataframe thead th {\n",
       "        text-align: right;\n",
       "    }\n",
       "</style>\n",
       "<table border=\"1\" class=\"dataframe\">\n",
       "  <thead>\n",
       "    <tr style=\"text-align: right;\">\n",
       "      <th></th>\n",
       "      <th>Unnamed: 0</th>\n",
       "      <th>Unnamed: 0.1</th>\n",
       "      <th>ACTUALDATE</th>\n",
       "      <th>TRANSDATE</th>\n",
       "    </tr>\n",
       "  </thead>\n",
       "  <tbody>\n",
       "    <tr>\n",
       "      <th>0</th>\n",
       "      <td>0</td>\n",
       "      <td>0</td>\n",
       "      <td>01 янв. 2005 г., 0:00</td>\n",
       "      <td>23 мая 2016 г., 13:01</td>\n",
       "    </tr>\n",
       "    <tr>\n",
       "      <th>1</th>\n",
       "      <td>1</td>\n",
       "      <td>1</td>\n",
       "      <td>01 янв. 2005 г., 0:00</td>\n",
       "      <td>23 мая 2016 г., 12:31</td>\n",
       "    </tr>\n",
       "    <tr>\n",
       "      <th>2</th>\n",
       "      <td>2</td>\n",
       "      <td>2</td>\n",
       "      <td>01 янв. 2005 г., 0:00</td>\n",
       "      <td>23 мая 2016 г., 12:31</td>\n",
       "    </tr>\n",
       "    <tr>\n",
       "      <th>3</th>\n",
       "      <td>3</td>\n",
       "      <td>3</td>\n",
       "      <td>01 янв. 2005 г., 0:00</td>\n",
       "      <td>23 мая 2016 г., 13:01</td>\n",
       "    </tr>\n",
       "    <tr>\n",
       "      <th>4</th>\n",
       "      <td>4</td>\n",
       "      <td>4</td>\n",
       "      <td>01 янв. 2005 г., 0:00</td>\n",
       "      <td>23 мая 2016 г., 13:01</td>\n",
       "    </tr>\n",
       "  </tbody>\n",
       "</table>\n",
       "</div>"
      ],
      "text/plain": [
       "   Unnamed: 0  Unnamed: 0.1             ACTUALDATE              TRANSDATE\n",
       "0           0             0  01 янв. 2005 г., 0:00  23 мая 2016 г., 13:01\n",
       "1           1             1  01 янв. 2005 г., 0:00  23 мая 2016 г., 12:31\n",
       "2           2             2  01 янв. 2005 г., 0:00  23 мая 2016 г., 12:31\n",
       "3           3             3  01 янв. 2005 г., 0:00  23 мая 2016 г., 13:01\n",
       "4           4             4  01 янв. 2005 г., 0:00  23 мая 2016 г., 13:01"
      ]
     },
     "execution_count": 64,
     "metadata": {},
     "output_type": "execute_result"
    }
   ],
   "source": [
    "df.head()"
   ]
  },
  {
   "cell_type": "code",
   "execution_count": 65,
   "metadata": {},
   "outputs": [
    {
     "name": "stdout",
     "output_type": "stream",
     "text": [
      "<class 'pandas.core.frame.DataFrame'>\n",
      "RangeIndex: 10 entries, 0 to 9\n",
      "Data columns (total 4 columns):\n",
      " #   Column        Non-Null Count  Dtype \n",
      "---  ------        --------------  ----- \n",
      " 0   Unnamed: 0    10 non-null     int64 \n",
      " 1   Unnamed: 0.1  10 non-null     int64 \n",
      " 2   ACTUALDATE    10 non-null     object\n",
      " 3   TRANSDATE     10 non-null     object\n",
      "dtypes: int64(2), object(2)\n",
      "memory usage: 448.0+ bytes\n"
     ]
    }
   ],
   "source": [
    "df.info()"
   ]
  },
  {
   "cell_type": "code",
   "execution_count": 66,
   "metadata": {},
   "outputs": [],
   "source": [
    "# задача ACTUALDATE преобразовать из object в datetime"
   ]
  },
  {
   "cell_type": "code",
   "execution_count": 67,
   "metadata": {},
   "outputs": [
    {
     "data": {
      "text/plain": [
       "0     01 янв. 2005 г., 0:00\n",
       "1     01 янв. 2005 г., 0:00\n",
       "2     01 янв. 2005 г., 0:00\n",
       "3     01 янв. 2005 г., 0:00\n",
       "4     01 янв. 2005 г., 0:00\n",
       "5     01 янв. 2005 г., 0:00\n",
       "6     01 янв. 2005 г., 0:00\n",
       "7     01 янв. 2005 г., 0:00\n",
       "8    31 дек. 2007 г., 23:00\n",
       "9    31 дек. 2007 г., 23:00\n",
       "Name: ACTUALDATE, dtype: object"
      ]
     },
     "execution_count": 67,
     "metadata": {},
     "output_type": "execute_result"
    }
   ],
   "source": [
    "df['ACTUALDATE']"
   ]
  },
  {
   "cell_type": "code",
   "execution_count": 68,
   "metadata": {},
   "outputs": [],
   "source": [
    "# почитать про setlocale \n",
    "# можно сразу переписать русс на анг, но пока не буду так как нужно выяснить какие месяцы и как прописаны в дата сете\n",
    "#df['ACTUALDATE'] = df['ACTUALDATE'].str.replace('окт.', 'Oct')\n",
    "# можно попробовать заменить месяца на цифры или анг буквы"
   ]
  },
  {
   "cell_type": "code",
   "execution_count": 69,
   "metadata": {},
   "outputs": [],
   "source": [
    "# замена г., на пробел\n",
    "df['ACTUALDATE'] = df['ACTUALDATE'].str.replace('г.,', ' ')"
   ]
  },
  {
   "cell_type": "code",
   "execution_count": 70,
   "metadata": {},
   "outputs": [],
   "source": [
    "#удаляем пробелы\n",
    "df['ACTUALDATE'] = df['ACTUALDATE'].str.strip()"
   ]
  },
  {
   "cell_type": "code",
   "execution_count": 71,
   "metadata": {},
   "outputs": [
    {
     "data": {
      "text/plain": [
       "0     01 янв. 2005   0:00\n",
       "1     01 янв. 2005   0:00\n",
       "2     01 янв. 2005   0:00\n",
       "3     01 янв. 2005   0:00\n",
       "4     01 янв. 2005   0:00\n",
       "5     01 янв. 2005   0:00\n",
       "6     01 янв. 2005   0:00\n",
       "7     01 янв. 2005   0:00\n",
       "8    31 дек. 2007   23:00\n",
       "9    31 дек. 2007   23:00\n",
       "Name: ACTUALDATE, dtype: object"
      ]
     },
     "execution_count": 71,
     "metadata": {},
     "output_type": "execute_result"
    }
   ],
   "source": [
    "df['ACTUALDATE']"
   ]
  },
  {
   "cell_type": "code",
   "execution_count": 72,
   "metadata": {},
   "outputs": [],
   "source": [
    "# делим на части\n",
    "df['ACTUALDATE'] = df['ACTUALDATE'].str.split()"
   ]
  },
  {
   "cell_type": "code",
   "execution_count": 73,
   "metadata": {},
   "outputs": [
    {
     "data": {
      "text/plain": [
       "0    [01, янв., 2005, 0:00]\n",
       "1    [01, янв., 2005, 0:00]\n",
       "Name: ACTUALDATE, dtype: object"
      ]
     },
     "execution_count": 73,
     "metadata": {},
     "output_type": "execute_result"
    }
   ],
   "source": [
    "df['ACTUALDATE'].head(2)"
   ]
  },
  {
   "cell_type": "code",
   "execution_count": 74,
   "metadata": {},
   "outputs": [],
   "source": [
    "# разделим столбец на несколько нужных списков, для обработки месяцев"
   ]
  },
  {
   "cell_type": "code",
   "execution_count": 75,
   "metadata": {},
   "outputs": [],
   "source": [
    "day = []\n",
    "mouth = []\n",
    "years = []\n",
    "time = []\n",
    "\n",
    "for a, b, c, e in df['ACTUALDATE']:\n",
    "    #print(a, b, c, e)\n",
    "    a = int(a)\n",
    "    b = str(b)\n",
    "    c = int(c)\n",
    "    e = str(e)\n",
    "    day.append(a)\n",
    "    mouth.append(b)\n",
    "    years.append(c)\n",
    "    time.append(e)"
   ]
  },
  {
   "cell_type": "code",
   "execution_count": 76,
   "metadata": {},
   "outputs": [],
   "source": [
    "# соеденим в один \n",
    "data_result = []\n",
    "\n",
    "for i in zip(day, mouth, years, time):\n",
    "    #print(i)\n",
    "    data_result.append(i)"
   ]
  },
  {
   "cell_type": "code",
   "execution_count": 77,
   "metadata": {},
   "outputs": [],
   "source": [
    "# запишим в дата фрейм для удобства\n",
    "df1 = pd.DataFrame(data_result, columns=['Day', 'Mouth', 'Years', 'Time'])"
   ]
  },
  {
   "cell_type": "code",
   "execution_count": 78,
   "metadata": {},
   "outputs": [
    {
     "data": {
      "text/html": [
       "<div>\n",
       "<style scoped>\n",
       "    .dataframe tbody tr th:only-of-type {\n",
       "        vertical-align: middle;\n",
       "    }\n",
       "\n",
       "    .dataframe tbody tr th {\n",
       "        vertical-align: top;\n",
       "    }\n",
       "\n",
       "    .dataframe thead th {\n",
       "        text-align: right;\n",
       "    }\n",
       "</style>\n",
       "<table border=\"1\" class=\"dataframe\">\n",
       "  <thead>\n",
       "    <tr style=\"text-align: right;\">\n",
       "      <th></th>\n",
       "      <th>Day</th>\n",
       "      <th>Mouth</th>\n",
       "      <th>Years</th>\n",
       "      <th>Time</th>\n",
       "    </tr>\n",
       "  </thead>\n",
       "  <tbody>\n",
       "    <tr>\n",
       "      <th>0</th>\n",
       "      <td>1</td>\n",
       "      <td>янв.</td>\n",
       "      <td>2005</td>\n",
       "      <td>0:00</td>\n",
       "    </tr>\n",
       "    <tr>\n",
       "      <th>1</th>\n",
       "      <td>1</td>\n",
       "      <td>янв.</td>\n",
       "      <td>2005</td>\n",
       "      <td>0:00</td>\n",
       "    </tr>\n",
       "  </tbody>\n",
       "</table>\n",
       "</div>"
      ],
      "text/plain": [
       "   Day Mouth  Years  Time\n",
       "0    1  янв.   2005  0:00\n",
       "1    1  янв.   2005  0:00"
      ]
     },
     "execution_count": 78,
     "metadata": {},
     "output_type": "execute_result"
    }
   ],
   "source": [
    "df1.head(2)"
   ]
  },
  {
   "cell_type": "code",
   "execution_count": 79,
   "metadata": {},
   "outputs": [
    {
     "data": {
      "text/plain": [
       "array(['янв.', 'дек.'], dtype=object)"
      ]
     },
     "execution_count": 79,
     "metadata": {},
     "output_type": "execute_result"
    }
   ],
   "source": [
    "# Просмотрим уникальные значения в месяце\n",
    "df1.Mouth.unique()"
   ]
  },
  {
   "cell_type": "code",
   "execution_count": 80,
   "metadata": {},
   "outputs": [],
   "source": [
    "# Перепишем\n",
    "df1['Mouth'] = df1['Mouth'].str.replace('янв.', 'Jan')\n",
    "df1['Mouth'] = df1['Mouth'].str.replace('февр.', 'Feb')\n",
    "df1['Mouth'] = df1['Mouth'].str.replace('марта', 'Mar')\n",
    "df1['Mouth'] = df1['Mouth'].str.replace('апр.', 'Apr')\n",
    "df1['Mouth'] = df1['Mouth'].str.replace('мая', 'May')\n",
    "df1['Mouth'] = df1['Mouth'].str.replace('июня', 'June')\n",
    "df1['Mouth'] = df1['Mouth'].str.replace('июля', 'July')\n",
    "df1['Mouth'] = df1['Mouth'].str.replace('авг.', 'Aug')\n",
    "df1['Mouth'] = df1['Mouth'].str.replace('сент.', 'Sept')\n",
    "df1['Mouth'] = df1['Mouth'].str.replace('окт.', 'Oct')\n",
    "df1['Mouth'] = df1['Mouth'].str.replace('нояб.', 'Nov')\n",
    "df1['Mouth'] = df1['Mouth'].str.replace('дек.', 'Dec')"
   ]
  },
  {
   "cell_type": "code",
   "execution_count": 81,
   "metadata": {},
   "outputs": [
    {
     "data": {
      "text/plain": [
       "array(['Jan', 'Dec'], dtype=object)"
      ]
     },
     "execution_count": 81,
     "metadata": {},
     "output_type": "execute_result"
    }
   ],
   "source": [
    "# проверим\n",
    "df1.Mouth.unique()"
   ]
  },
  {
   "cell_type": "code",
   "execution_count": 82,
   "metadata": {},
   "outputs": [
    {
     "data": {
      "text/plain": [
       "0     0:00\n",
       "1     0:00\n",
       "2     0:00\n",
       "3     0:00\n",
       "4     0:00\n",
       "5     0:00\n",
       "6     0:00\n",
       "7     0:00\n",
       "8    23:00\n",
       "9    23:00\n",
       "Name: Time, dtype: object"
      ]
     },
     "execution_count": 82,
     "metadata": {},
     "output_type": "execute_result"
    }
   ],
   "source": [
    "# Перейдем ко времени\n",
    "df1['Time']"
   ]
  },
  {
   "cell_type": "code",
   "execution_count": 83,
   "metadata": {},
   "outputs": [],
   "source": [
    "# выяснить почему таймделта срабатывает только после обработки , а не допустим вот такой строкой\n",
    "# df1['Time']  = pd.to_timedelta(df1['Time'])"
   ]
  },
  {
   "cell_type": "code",
   "execution_count": 84,
   "metadata": {},
   "outputs": [],
   "source": [
    "df1['Time']  = pd.to_datetime(df1['Time'] ).dt.strftime(\"%H:%M:%S\")"
   ]
  },
  {
   "cell_type": "code",
   "execution_count": 85,
   "metadata": {},
   "outputs": [
    {
     "data": {
      "text/plain": [
       "0    00:00:00\n",
       "1    00:00:00\n",
       "2    00:00:00\n",
       "3    00:00:00\n",
       "4    00:00:00\n",
       "5    00:00:00\n",
       "6    00:00:00\n",
       "7    00:00:00\n",
       "8    23:00:00\n",
       "9    23:00:00\n",
       "Name: Time, dtype: object"
      ]
     },
     "execution_count": 85,
     "metadata": {},
     "output_type": "execute_result"
    }
   ],
   "source": [
    "df1['Time']"
   ]
  },
  {
   "cell_type": "code",
   "execution_count": 86,
   "metadata": {},
   "outputs": [
    {
     "data": {
      "text/plain": [
       "array(['00:00:00', '23:00:00'], dtype=object)"
      ]
     },
     "execution_count": 86,
     "metadata": {},
     "output_type": "execute_result"
    }
   ],
   "source": [
    "df1.Time.unique()"
   ]
  },
  {
   "cell_type": "code",
   "execution_count": 87,
   "metadata": {},
   "outputs": [],
   "source": [
    "# соеденим дату\n",
    "df1['data_complite'] = df1[df1.columns[:3]].apply(lambda x: ','.join(x.dropna().astype(str)), axis=1)\n",
    "# долгое время обработки, нужно что нибудь попроще придумать"
   ]
  },
  {
   "cell_type": "code",
   "execution_count": 88,
   "metadata": {},
   "outputs": [],
   "source": [
    "# соеденим дату и время\n",
    "df1['data_complite_2'] = pd.to_datetime(df1.data_complite) + pd.to_timedelta(df1.Time)"
   ]
  },
  {
   "cell_type": "code",
   "execution_count": 89,
   "metadata": {},
   "outputs": [
    {
     "data": {
      "text/html": [
       "<div>\n",
       "<style scoped>\n",
       "    .dataframe tbody tr th:only-of-type {\n",
       "        vertical-align: middle;\n",
       "    }\n",
       "\n",
       "    .dataframe tbody tr th {\n",
       "        vertical-align: top;\n",
       "    }\n",
       "\n",
       "    .dataframe thead th {\n",
       "        text-align: right;\n",
       "    }\n",
       "</style>\n",
       "<table border=\"1\" class=\"dataframe\">\n",
       "  <thead>\n",
       "    <tr style=\"text-align: right;\">\n",
       "      <th></th>\n",
       "      <th>Day</th>\n",
       "      <th>Mouth</th>\n",
       "      <th>Years</th>\n",
       "      <th>Time</th>\n",
       "      <th>data_complite</th>\n",
       "      <th>data_complite_2</th>\n",
       "    </tr>\n",
       "  </thead>\n",
       "  <tbody>\n",
       "    <tr>\n",
       "      <th>0</th>\n",
       "      <td>1</td>\n",
       "      <td>Jan</td>\n",
       "      <td>2005</td>\n",
       "      <td>00:00:00</td>\n",
       "      <td>1,Jan,2005</td>\n",
       "      <td>2005-01-01 00:00:00</td>\n",
       "    </tr>\n",
       "    <tr>\n",
       "      <th>1</th>\n",
       "      <td>1</td>\n",
       "      <td>Jan</td>\n",
       "      <td>2005</td>\n",
       "      <td>00:00:00</td>\n",
       "      <td>1,Jan,2005</td>\n",
       "      <td>2005-01-01 00:00:00</td>\n",
       "    </tr>\n",
       "    <tr>\n",
       "      <th>2</th>\n",
       "      <td>1</td>\n",
       "      <td>Jan</td>\n",
       "      <td>2005</td>\n",
       "      <td>00:00:00</td>\n",
       "      <td>1,Jan,2005</td>\n",
       "      <td>2005-01-01 00:00:00</td>\n",
       "    </tr>\n",
       "    <tr>\n",
       "      <th>3</th>\n",
       "      <td>1</td>\n",
       "      <td>Jan</td>\n",
       "      <td>2005</td>\n",
       "      <td>00:00:00</td>\n",
       "      <td>1,Jan,2005</td>\n",
       "      <td>2005-01-01 00:00:00</td>\n",
       "    </tr>\n",
       "    <tr>\n",
       "      <th>4</th>\n",
       "      <td>1</td>\n",
       "      <td>Jan</td>\n",
       "      <td>2005</td>\n",
       "      <td>00:00:00</td>\n",
       "      <td>1,Jan,2005</td>\n",
       "      <td>2005-01-01 00:00:00</td>\n",
       "    </tr>\n",
       "    <tr>\n",
       "      <th>5</th>\n",
       "      <td>1</td>\n",
       "      <td>Jan</td>\n",
       "      <td>2005</td>\n",
       "      <td>00:00:00</td>\n",
       "      <td>1,Jan,2005</td>\n",
       "      <td>2005-01-01 00:00:00</td>\n",
       "    </tr>\n",
       "    <tr>\n",
       "      <th>6</th>\n",
       "      <td>1</td>\n",
       "      <td>Jan</td>\n",
       "      <td>2005</td>\n",
       "      <td>00:00:00</td>\n",
       "      <td>1,Jan,2005</td>\n",
       "      <td>2005-01-01 00:00:00</td>\n",
       "    </tr>\n",
       "    <tr>\n",
       "      <th>7</th>\n",
       "      <td>1</td>\n",
       "      <td>Jan</td>\n",
       "      <td>2005</td>\n",
       "      <td>00:00:00</td>\n",
       "      <td>1,Jan,2005</td>\n",
       "      <td>2005-01-01 00:00:00</td>\n",
       "    </tr>\n",
       "    <tr>\n",
       "      <th>8</th>\n",
       "      <td>31</td>\n",
       "      <td>Dec</td>\n",
       "      <td>2007</td>\n",
       "      <td>23:00:00</td>\n",
       "      <td>31,Dec,2007</td>\n",
       "      <td>2007-12-31 23:00:00</td>\n",
       "    </tr>\n",
       "    <tr>\n",
       "      <th>9</th>\n",
       "      <td>31</td>\n",
       "      <td>Dec</td>\n",
       "      <td>2007</td>\n",
       "      <td>23:00:00</td>\n",
       "      <td>31,Dec,2007</td>\n",
       "      <td>2007-12-31 23:00:00</td>\n",
       "    </tr>\n",
       "  </tbody>\n",
       "</table>\n",
       "</div>"
      ],
      "text/plain": [
       "   Day Mouth  Years      Time data_complite     data_complite_2\n",
       "0    1   Jan   2005  00:00:00    1,Jan,2005 2005-01-01 00:00:00\n",
       "1    1   Jan   2005  00:00:00    1,Jan,2005 2005-01-01 00:00:00\n",
       "2    1   Jan   2005  00:00:00    1,Jan,2005 2005-01-01 00:00:00\n",
       "3    1   Jan   2005  00:00:00    1,Jan,2005 2005-01-01 00:00:00\n",
       "4    1   Jan   2005  00:00:00    1,Jan,2005 2005-01-01 00:00:00\n",
       "5    1   Jan   2005  00:00:00    1,Jan,2005 2005-01-01 00:00:00\n",
       "6    1   Jan   2005  00:00:00    1,Jan,2005 2005-01-01 00:00:00\n",
       "7    1   Jan   2005  00:00:00    1,Jan,2005 2005-01-01 00:00:00\n",
       "8   31   Dec   2007  23:00:00   31,Dec,2007 2007-12-31 23:00:00\n",
       "9   31   Dec   2007  23:00:00   31,Dec,2007 2007-12-31 23:00:00"
      ]
     },
     "execution_count": 89,
     "metadata": {},
     "output_type": "execute_result"
    }
   ],
   "source": [
    "df1"
   ]
  },
  {
   "cell_type": "code",
   "execution_count": 90,
   "metadata": {},
   "outputs": [
    {
     "name": "stdout",
     "output_type": "stream",
     "text": [
      "<class 'pandas.core.frame.DataFrame'>\n",
      "RangeIndex: 10 entries, 0 to 9\n",
      "Data columns (total 6 columns):\n",
      " #   Column           Non-Null Count  Dtype         \n",
      "---  ------           --------------  -----         \n",
      " 0   Day              10 non-null     int64         \n",
      " 1   Mouth            10 non-null     object        \n",
      " 2   Years            10 non-null     int64         \n",
      " 3   Time             10 non-null     object        \n",
      " 4   data_complite    10 non-null     object        \n",
      " 5   data_complite_2  10 non-null     datetime64[ns]\n",
      "dtypes: datetime64[ns](1), int64(2), object(3)\n",
      "memory usage: 608.0+ bytes\n"
     ]
    }
   ],
   "source": [
    "df1.info()"
   ]
  },
  {
   "cell_type": "code",
   "execution_count": 91,
   "metadata": {},
   "outputs": [],
   "source": [
    "df3 = df.join(df1['data_complite_2'])"
   ]
  },
  {
   "cell_type": "code",
   "execution_count": 92,
   "metadata": {},
   "outputs": [
    {
     "data": {
      "text/html": [
       "<div>\n",
       "<style scoped>\n",
       "    .dataframe tbody tr th:only-of-type {\n",
       "        vertical-align: middle;\n",
       "    }\n",
       "\n",
       "    .dataframe tbody tr th {\n",
       "        vertical-align: top;\n",
       "    }\n",
       "\n",
       "    .dataframe thead th {\n",
       "        text-align: right;\n",
       "    }\n",
       "</style>\n",
       "<table border=\"1\" class=\"dataframe\">\n",
       "  <thead>\n",
       "    <tr style=\"text-align: right;\">\n",
       "      <th></th>\n",
       "      <th>Unnamed: 0</th>\n",
       "      <th>Unnamed: 0.1</th>\n",
       "      <th>ACTUALDATE</th>\n",
       "      <th>TRANSDATE</th>\n",
       "      <th>data_complite_2</th>\n",
       "    </tr>\n",
       "  </thead>\n",
       "  <tbody>\n",
       "    <tr>\n",
       "      <th>0</th>\n",
       "      <td>0</td>\n",
       "      <td>0</td>\n",
       "      <td>[01, янв., 2005, 0:00]</td>\n",
       "      <td>23 мая 2016 г., 13:01</td>\n",
       "      <td>2005-01-01 00:00:00</td>\n",
       "    </tr>\n",
       "    <tr>\n",
       "      <th>1</th>\n",
       "      <td>1</td>\n",
       "      <td>1</td>\n",
       "      <td>[01, янв., 2005, 0:00]</td>\n",
       "      <td>23 мая 2016 г., 12:31</td>\n",
       "      <td>2005-01-01 00:00:00</td>\n",
       "    </tr>\n",
       "    <tr>\n",
       "      <th>2</th>\n",
       "      <td>2</td>\n",
       "      <td>2</td>\n",
       "      <td>[01, янв., 2005, 0:00]</td>\n",
       "      <td>23 мая 2016 г., 12:31</td>\n",
       "      <td>2005-01-01 00:00:00</td>\n",
       "    </tr>\n",
       "    <tr>\n",
       "      <th>3</th>\n",
       "      <td>3</td>\n",
       "      <td>3</td>\n",
       "      <td>[01, янв., 2005, 0:00]</td>\n",
       "      <td>23 мая 2016 г., 13:01</td>\n",
       "      <td>2005-01-01 00:00:00</td>\n",
       "    </tr>\n",
       "    <tr>\n",
       "      <th>4</th>\n",
       "      <td>4</td>\n",
       "      <td>4</td>\n",
       "      <td>[01, янв., 2005, 0:00]</td>\n",
       "      <td>23 мая 2016 г., 13:01</td>\n",
       "      <td>2005-01-01 00:00:00</td>\n",
       "    </tr>\n",
       "    <tr>\n",
       "      <th>5</th>\n",
       "      <td>5</td>\n",
       "      <td>5</td>\n",
       "      <td>[01, янв., 2005, 0:00]</td>\n",
       "      <td>23 мая 2016 г., 13:01</td>\n",
       "      <td>2005-01-01 00:00:00</td>\n",
       "    </tr>\n",
       "    <tr>\n",
       "      <th>6</th>\n",
       "      <td>6</td>\n",
       "      <td>6</td>\n",
       "      <td>[01, янв., 2005, 0:00]</td>\n",
       "      <td>23 мая 2016 г., 12:31</td>\n",
       "      <td>2005-01-01 00:00:00</td>\n",
       "    </tr>\n",
       "    <tr>\n",
       "      <th>7</th>\n",
       "      <td>7</td>\n",
       "      <td>7</td>\n",
       "      <td>[01, янв., 2005, 0:00]</td>\n",
       "      <td>23 мая 2016 г., 12:31</td>\n",
       "      <td>2005-01-01 00:00:00</td>\n",
       "    </tr>\n",
       "    <tr>\n",
       "      <th>8</th>\n",
       "      <td>8</td>\n",
       "      <td>8</td>\n",
       "      <td>[31, дек., 2007, 23:00]</td>\n",
       "      <td>29 марта 2018 г., 14:55</td>\n",
       "      <td>2007-12-31 23:00:00</td>\n",
       "    </tr>\n",
       "    <tr>\n",
       "      <th>9</th>\n",
       "      <td>9</td>\n",
       "      <td>9</td>\n",
       "      <td>[31, дек., 2007, 23:00]</td>\n",
       "      <td>29 марта 2018 г., 15:13</td>\n",
       "      <td>2007-12-31 23:00:00</td>\n",
       "    </tr>\n",
       "  </tbody>\n",
       "</table>\n",
       "</div>"
      ],
      "text/plain": [
       "   Unnamed: 0  Unnamed: 0.1               ACTUALDATE                TRANSDATE  \\\n",
       "0           0             0   [01, янв., 2005, 0:00]    23 мая 2016 г., 13:01   \n",
       "1           1             1   [01, янв., 2005, 0:00]    23 мая 2016 г., 12:31   \n",
       "2           2             2   [01, янв., 2005, 0:00]    23 мая 2016 г., 12:31   \n",
       "3           3             3   [01, янв., 2005, 0:00]    23 мая 2016 г., 13:01   \n",
       "4           4             4   [01, янв., 2005, 0:00]    23 мая 2016 г., 13:01   \n",
       "5           5             5   [01, янв., 2005, 0:00]    23 мая 2016 г., 13:01   \n",
       "6           6             6   [01, янв., 2005, 0:00]    23 мая 2016 г., 12:31   \n",
       "7           7             7   [01, янв., 2005, 0:00]    23 мая 2016 г., 12:31   \n",
       "8           8             8  [31, дек., 2007, 23:00]  29 марта 2018 г., 14:55   \n",
       "9           9             9  [31, дек., 2007, 23:00]  29 марта 2018 г., 15:13   \n",
       "\n",
       "      data_complite_2  \n",
       "0 2005-01-01 00:00:00  \n",
       "1 2005-01-01 00:00:00  \n",
       "2 2005-01-01 00:00:00  \n",
       "3 2005-01-01 00:00:00  \n",
       "4 2005-01-01 00:00:00  \n",
       "5 2005-01-01 00:00:00  \n",
       "6 2005-01-01 00:00:00  \n",
       "7 2005-01-01 00:00:00  \n",
       "8 2007-12-31 23:00:00  \n",
       "9 2007-12-31 23:00:00  "
      ]
     },
     "execution_count": 92,
     "metadata": {},
     "output_type": "execute_result"
    }
   ],
   "source": [
    "df3"
   ]
  },
  {
   "cell_type": "code",
   "execution_count": 93,
   "metadata": {},
   "outputs": [
    {
     "name": "stdout",
     "output_type": "stream",
     "text": [
      "<class 'pandas.core.frame.DataFrame'>\n",
      "RangeIndex: 10 entries, 0 to 9\n",
      "Data columns (total 5 columns):\n",
      " #   Column           Non-Null Count  Dtype         \n",
      "---  ------           --------------  -----         \n",
      " 0   Unnamed: 0       10 non-null     int64         \n",
      " 1   Unnamed: 0.1     10 non-null     int64         \n",
      " 2   ACTUALDATE       10 non-null     object        \n",
      " 3   TRANSDATE        10 non-null     object        \n",
      " 4   data_complite_2  10 non-null     datetime64[ns]\n",
      "dtypes: datetime64[ns](1), int64(2), object(2)\n",
      "memory usage: 528.0+ bytes\n"
     ]
    }
   ],
   "source": [
    "df3.info()"
   ]
  },
  {
   "cell_type": "code",
   "execution_count": 42,
   "metadata": {},
   "outputs": [],
   "source": [
    "# Главный вопрос остается открытым, почему приходиться делать такой \"парсинг\" по дате? \n",
    "# Что мешает дататайм сразу преобразовать в указанный формат "
   ]
  },
  {
   "cell_type": "code",
   "execution_count": null,
   "metadata": {},
   "outputs": [],
   "source": []
  }
 ],
 "metadata": {
  "kernelspec": {
   "display_name": "Python 3",
   "language": "python",
   "name": "python3"
  },
  "language_info": {
   "codemirror_mode": {
    "name": "ipython",
    "version": 3
   },
   "file_extension": ".py",
   "mimetype": "text/x-python",
   "name": "python",
   "nbconvert_exporter": "python",
   "pygments_lexer": "ipython3",
   "version": "3.7.6"
  }
 },
 "nbformat": 4,
 "nbformat_minor": 4
}
